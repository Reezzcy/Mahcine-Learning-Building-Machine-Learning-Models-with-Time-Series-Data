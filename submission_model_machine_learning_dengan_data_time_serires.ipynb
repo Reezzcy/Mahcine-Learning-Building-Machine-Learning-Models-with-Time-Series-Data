{
  "nbformat": 4,
  "nbformat_minor": 0,
  "metadata": {
    "colab": {
      "provenance": []
    },
    "kernelspec": {
      "name": "python3",
      "display_name": "Python 3"
    },
    "language_info": {
      "name": "python"
    }
  },
  "cells": [
    {
      "cell_type": "markdown",
      "source": [
        "# Proyek Kedua : Membuat Model Machine Learning dengan Data Time Series"
      ],
      "metadata": {
        "id": "qnysikMgEpyy"
      }
    },
    {
      "cell_type": "markdown",
      "source": [
        "- Nama: Nicolas Debrito\n",
        "- Email: nicolas.debrito66@gmail.com\n",
        "- ID Dicoding: reezzy"
      ],
      "metadata": {
        "id": "MXn9ySb6E3WZ"
      }
    },
    {
      "cell_type": "markdown",
      "source": [
        "## Import Library"
      ],
      "metadata": {
        "id": "1Jm6nl1mE6oZ"
      }
    },
    {
      "cell_type": "code",
      "execution_count": 1,
      "metadata": {
        "id": "CIBmlW0_Bvfx"
      },
      "outputs": [],
      "source": [
        "import tensorflow as tf\n",
        "from tensorflow.keras.models import Sequential\n",
        "from tensorflow.keras.layers import LSTM, Dense, Dropout\n",
        "from sklearn.model_selection import train_test_split\n",
        "from sklearn.preprocessing import StandardScaler\n",
        "import pandas as pd\n",
        "import matplotlib.pyplot as plt\n",
        "import zipfile\n",
        "\n",
        "from warnings import filterwarnings\n",
        "filterwarnings('ignore')"
      ]
    },
    {
      "cell_type": "markdown",
      "source": [
        "## Download and Extract Dataset"
      ],
      "metadata": {
        "id": "MUS9BnKAGHLs"
      }
    },
    {
      "cell_type": "code",
      "source": [
        "!pip install kaggle"
      ],
      "metadata": {
        "colab": {
          "base_uri": "https://localhost:8080/"
        },
        "id": "XAudKAbeGA20",
        "outputId": "3f539a40-77fb-4d80-e24b-7d131083c97d"
      },
      "execution_count": 2,
      "outputs": [
        {
          "output_type": "stream",
          "name": "stdout",
          "text": [
            "Requirement already satisfied: kaggle in /usr/local/lib/python3.10/dist-packages (1.6.14)\n",
            "Requirement already satisfied: six>=1.10 in /usr/local/lib/python3.10/dist-packages (from kaggle) (1.16.0)\n",
            "Requirement already satisfied: certifi>=2023.7.22 in /usr/local/lib/python3.10/dist-packages (from kaggle) (2024.6.2)\n",
            "Requirement already satisfied: python-dateutil in /usr/local/lib/python3.10/dist-packages (from kaggle) (2.8.2)\n",
            "Requirement already satisfied: requests in /usr/local/lib/python3.10/dist-packages (from kaggle) (2.31.0)\n",
            "Requirement already satisfied: tqdm in /usr/local/lib/python3.10/dist-packages (from kaggle) (4.66.4)\n",
            "Requirement already satisfied: python-slugify in /usr/local/lib/python3.10/dist-packages (from kaggle) (8.0.4)\n",
            "Requirement already satisfied: urllib3 in /usr/local/lib/python3.10/dist-packages (from kaggle) (2.0.7)\n",
            "Requirement already satisfied: bleach in /usr/local/lib/python3.10/dist-packages (from kaggle) (6.1.0)\n",
            "Requirement already satisfied: webencodings in /usr/local/lib/python3.10/dist-packages (from bleach->kaggle) (0.5.1)\n",
            "Requirement already satisfied: text-unidecode>=1.3 in /usr/local/lib/python3.10/dist-packages (from python-slugify->kaggle) (1.3)\n",
            "Requirement already satisfied: charset-normalizer<4,>=2 in /usr/local/lib/python3.10/dist-packages (from requests->kaggle) (3.3.2)\n",
            "Requirement already satisfied: idna<4,>=2.5 in /usr/local/lib/python3.10/dist-packages (from requests->kaggle) (3.7)\n"
          ]
        }
      ]
    },
    {
      "cell_type": "code",
      "source": [
        "!kaggle datasets download -d muamkh/ihsgstockdata"
      ],
      "metadata": {
        "colab": {
          "base_uri": "https://localhost:8080/"
        },
        "id": "1YlBEhA6GDCc",
        "outputId": "b379eb3e-6bb3-44da-de09-58f74e4177e3"
      },
      "execution_count": 3,
      "outputs": [
        {
          "output_type": "stream",
          "name": "stdout",
          "text": [
            "Dataset URL: https://www.kaggle.com/datasets/muamkh/ihsgstockdata\n",
            "License(s): Attribution-NonCommercial 4.0 International (CC BY-NC 4.0)\n",
            "ihsgstockdata.zip: Skipping, found more recently modified local copy (use --force to force download)\n"
          ]
        }
      ]
    },
    {
      "cell_type": "code",
      "source": [
        "with zipfile.ZipFile('ihsgstockdata.zip', 'r') as zip_ref:\n",
        "    zip_ref.extractall('ihsgstockdata')"
      ],
      "metadata": {
        "id": "TCPD6W_BGDd0"
      },
      "execution_count": 4,
      "outputs": []
    },
    {
      "cell_type": "markdown",
      "source": [
        "## Preprocessing Data"
      ],
      "metadata": {
        "id": "SBer_eYfQUjN"
      }
    },
    {
      "cell_type": "markdown",
      "source": [
        "Mengambil 18900 data dari 1 Nov 2021 - 31 Des 2021 (dua bulan)"
      ],
      "metadata": {
        "id": "N-ZR1yh-4ka8"
      }
    },
    {
      "cell_type": "code",
      "source": [
        "df = pd.read_csv('ihsgstockdata/minutes/BBCA.csv')\n",
        "df = df.head(18900)\n",
        "df"
      ],
      "metadata": {
        "colab": {
          "base_uri": "https://localhost:8080/",
          "height": 423
        },
        "id": "c6kbom5cQXl_",
        "outputId": "890c1543-b64c-4265-9db5-cdcaa260a0e2"
      },
      "execution_count": 12,
      "outputs": [
        {
          "output_type": "execute_result",
          "data": {
            "text/plain": [
              "                 timestamp  open   low  high  close  volume\n",
              "0      2021-11-01 09:00:00  7550  7500  7550   7525  881000\n",
              "1      2021-11-01 09:01:00  7525  7475  7525   7500  652500\n",
              "2      2021-11-01 09:02:00  7500  7475  7500   7500   55900\n",
              "3      2021-11-01 09:03:00  7500  7475  7500   7500  250800\n",
              "4      2021-11-01 09:04:00  7500  7450  7500   7475  796400\n",
              "...                    ...   ...   ...   ...    ...     ...\n",
              "18895  2021-12-31 15:55:00  7300  7300  7300   7300       0\n",
              "18896  2021-12-31 15:56:00  7300  7300  7300   7300       0\n",
              "18897  2021-12-31 15:57:00  7300  7300  7300   7300       0\n",
              "18898  2021-12-31 15:58:00  7300  7300  7300   7300       0\n",
              "18899  2021-12-31 15:59:00  7300  7300  7300   7300       0\n",
              "\n",
              "[18900 rows x 6 columns]"
            ],
            "text/html": [
              "\n",
              "  <div id=\"df-276f5195-3fb9-497a-a252-b1f1d2b2a387\" class=\"colab-df-container\">\n",
              "    <div>\n",
              "<style scoped>\n",
              "    .dataframe tbody tr th:only-of-type {\n",
              "        vertical-align: middle;\n",
              "    }\n",
              "\n",
              "    .dataframe tbody tr th {\n",
              "        vertical-align: top;\n",
              "    }\n",
              "\n",
              "    .dataframe thead th {\n",
              "        text-align: right;\n",
              "    }\n",
              "</style>\n",
              "<table border=\"1\" class=\"dataframe\">\n",
              "  <thead>\n",
              "    <tr style=\"text-align: right;\">\n",
              "      <th></th>\n",
              "      <th>timestamp</th>\n",
              "      <th>open</th>\n",
              "      <th>low</th>\n",
              "      <th>high</th>\n",
              "      <th>close</th>\n",
              "      <th>volume</th>\n",
              "    </tr>\n",
              "  </thead>\n",
              "  <tbody>\n",
              "    <tr>\n",
              "      <th>0</th>\n",
              "      <td>2021-11-01 09:00:00</td>\n",
              "      <td>7550</td>\n",
              "      <td>7500</td>\n",
              "      <td>7550</td>\n",
              "      <td>7525</td>\n",
              "      <td>881000</td>\n",
              "    </tr>\n",
              "    <tr>\n",
              "      <th>1</th>\n",
              "      <td>2021-11-01 09:01:00</td>\n",
              "      <td>7525</td>\n",
              "      <td>7475</td>\n",
              "      <td>7525</td>\n",
              "      <td>7500</td>\n",
              "      <td>652500</td>\n",
              "    </tr>\n",
              "    <tr>\n",
              "      <th>2</th>\n",
              "      <td>2021-11-01 09:02:00</td>\n",
              "      <td>7500</td>\n",
              "      <td>7475</td>\n",
              "      <td>7500</td>\n",
              "      <td>7500</td>\n",
              "      <td>55900</td>\n",
              "    </tr>\n",
              "    <tr>\n",
              "      <th>3</th>\n",
              "      <td>2021-11-01 09:03:00</td>\n",
              "      <td>7500</td>\n",
              "      <td>7475</td>\n",
              "      <td>7500</td>\n",
              "      <td>7500</td>\n",
              "      <td>250800</td>\n",
              "    </tr>\n",
              "    <tr>\n",
              "      <th>4</th>\n",
              "      <td>2021-11-01 09:04:00</td>\n",
              "      <td>7500</td>\n",
              "      <td>7450</td>\n",
              "      <td>7500</td>\n",
              "      <td>7475</td>\n",
              "      <td>796400</td>\n",
              "    </tr>\n",
              "    <tr>\n",
              "      <th>...</th>\n",
              "      <td>...</td>\n",
              "      <td>...</td>\n",
              "      <td>...</td>\n",
              "      <td>...</td>\n",
              "      <td>...</td>\n",
              "      <td>...</td>\n",
              "    </tr>\n",
              "    <tr>\n",
              "      <th>18895</th>\n",
              "      <td>2021-12-31 15:55:00</td>\n",
              "      <td>7300</td>\n",
              "      <td>7300</td>\n",
              "      <td>7300</td>\n",
              "      <td>7300</td>\n",
              "      <td>0</td>\n",
              "    </tr>\n",
              "    <tr>\n",
              "      <th>18896</th>\n",
              "      <td>2021-12-31 15:56:00</td>\n",
              "      <td>7300</td>\n",
              "      <td>7300</td>\n",
              "      <td>7300</td>\n",
              "      <td>7300</td>\n",
              "      <td>0</td>\n",
              "    </tr>\n",
              "    <tr>\n",
              "      <th>18897</th>\n",
              "      <td>2021-12-31 15:57:00</td>\n",
              "      <td>7300</td>\n",
              "      <td>7300</td>\n",
              "      <td>7300</td>\n",
              "      <td>7300</td>\n",
              "      <td>0</td>\n",
              "    </tr>\n",
              "    <tr>\n",
              "      <th>18898</th>\n",
              "      <td>2021-12-31 15:58:00</td>\n",
              "      <td>7300</td>\n",
              "      <td>7300</td>\n",
              "      <td>7300</td>\n",
              "      <td>7300</td>\n",
              "      <td>0</td>\n",
              "    </tr>\n",
              "    <tr>\n",
              "      <th>18899</th>\n",
              "      <td>2021-12-31 15:59:00</td>\n",
              "      <td>7300</td>\n",
              "      <td>7300</td>\n",
              "      <td>7300</td>\n",
              "      <td>7300</td>\n",
              "      <td>0</td>\n",
              "    </tr>\n",
              "  </tbody>\n",
              "</table>\n",
              "<p>18900 rows × 6 columns</p>\n",
              "</div>\n",
              "    <div class=\"colab-df-buttons\">\n",
              "\n",
              "  <div class=\"colab-df-container\">\n",
              "    <button class=\"colab-df-convert\" onclick=\"convertToInteractive('df-276f5195-3fb9-497a-a252-b1f1d2b2a387')\"\n",
              "            title=\"Convert this dataframe to an interactive table.\"\n",
              "            style=\"display:none;\">\n",
              "\n",
              "  <svg xmlns=\"http://www.w3.org/2000/svg\" height=\"24px\" viewBox=\"0 -960 960 960\">\n",
              "    <path d=\"M120-120v-720h720v720H120Zm60-500h600v-160H180v160Zm220 220h160v-160H400v160Zm0 220h160v-160H400v160ZM180-400h160v-160H180v160Zm440 0h160v-160H620v160ZM180-180h160v-160H180v160Zm440 0h160v-160H620v160Z\"/>\n",
              "  </svg>\n",
              "    </button>\n",
              "\n",
              "  <style>\n",
              "    .colab-df-container {\n",
              "      display:flex;\n",
              "      gap: 12px;\n",
              "    }\n",
              "\n",
              "    .colab-df-convert {\n",
              "      background-color: #E8F0FE;\n",
              "      border: none;\n",
              "      border-radius: 50%;\n",
              "      cursor: pointer;\n",
              "      display: none;\n",
              "      fill: #1967D2;\n",
              "      height: 32px;\n",
              "      padding: 0 0 0 0;\n",
              "      width: 32px;\n",
              "    }\n",
              "\n",
              "    .colab-df-convert:hover {\n",
              "      background-color: #E2EBFA;\n",
              "      box-shadow: 0px 1px 2px rgba(60, 64, 67, 0.3), 0px 1px 3px 1px rgba(60, 64, 67, 0.15);\n",
              "      fill: #174EA6;\n",
              "    }\n",
              "\n",
              "    .colab-df-buttons div {\n",
              "      margin-bottom: 4px;\n",
              "    }\n",
              "\n",
              "    [theme=dark] .colab-df-convert {\n",
              "      background-color: #3B4455;\n",
              "      fill: #D2E3FC;\n",
              "    }\n",
              "\n",
              "    [theme=dark] .colab-df-convert:hover {\n",
              "      background-color: #434B5C;\n",
              "      box-shadow: 0px 1px 3px 1px rgba(0, 0, 0, 0.15);\n",
              "      filter: drop-shadow(0px 1px 2px rgba(0, 0, 0, 0.3));\n",
              "      fill: #FFFFFF;\n",
              "    }\n",
              "  </style>\n",
              "\n",
              "    <script>\n",
              "      const buttonEl =\n",
              "        document.querySelector('#df-276f5195-3fb9-497a-a252-b1f1d2b2a387 button.colab-df-convert');\n",
              "      buttonEl.style.display =\n",
              "        google.colab.kernel.accessAllowed ? 'block' : 'none';\n",
              "\n",
              "      async function convertToInteractive(key) {\n",
              "        const element = document.querySelector('#df-276f5195-3fb9-497a-a252-b1f1d2b2a387');\n",
              "        const dataTable =\n",
              "          await google.colab.kernel.invokeFunction('convertToInteractive',\n",
              "                                                    [key], {});\n",
              "        if (!dataTable) return;\n",
              "\n",
              "        const docLinkHtml = 'Like what you see? Visit the ' +\n",
              "          '<a target=\"_blank\" href=https://colab.research.google.com/notebooks/data_table.ipynb>data table notebook</a>'\n",
              "          + ' to learn more about interactive tables.';\n",
              "        element.innerHTML = '';\n",
              "        dataTable['output_type'] = 'display_data';\n",
              "        await google.colab.output.renderOutput(dataTable, element);\n",
              "        const docLink = document.createElement('div');\n",
              "        docLink.innerHTML = docLinkHtml;\n",
              "        element.appendChild(docLink);\n",
              "      }\n",
              "    </script>\n",
              "  </div>\n",
              "\n",
              "\n",
              "<div id=\"df-f5ed177a-c020-48ea-a2c2-a3ca75ed380b\">\n",
              "  <button class=\"colab-df-quickchart\" onclick=\"quickchart('df-f5ed177a-c020-48ea-a2c2-a3ca75ed380b')\"\n",
              "            title=\"Suggest charts\"\n",
              "            style=\"display:none;\">\n",
              "\n",
              "<svg xmlns=\"http://www.w3.org/2000/svg\" height=\"24px\"viewBox=\"0 0 24 24\"\n",
              "     width=\"24px\">\n",
              "    <g>\n",
              "        <path d=\"M19 3H5c-1.1 0-2 .9-2 2v14c0 1.1.9 2 2 2h14c1.1 0 2-.9 2-2V5c0-1.1-.9-2-2-2zM9 17H7v-7h2v7zm4 0h-2V7h2v10zm4 0h-2v-4h2v4z\"/>\n",
              "    </g>\n",
              "</svg>\n",
              "  </button>\n",
              "\n",
              "<style>\n",
              "  .colab-df-quickchart {\n",
              "      --bg-color: #E8F0FE;\n",
              "      --fill-color: #1967D2;\n",
              "      --hover-bg-color: #E2EBFA;\n",
              "      --hover-fill-color: #174EA6;\n",
              "      --disabled-fill-color: #AAA;\n",
              "      --disabled-bg-color: #DDD;\n",
              "  }\n",
              "\n",
              "  [theme=dark] .colab-df-quickchart {\n",
              "      --bg-color: #3B4455;\n",
              "      --fill-color: #D2E3FC;\n",
              "      --hover-bg-color: #434B5C;\n",
              "      --hover-fill-color: #FFFFFF;\n",
              "      --disabled-bg-color: #3B4455;\n",
              "      --disabled-fill-color: #666;\n",
              "  }\n",
              "\n",
              "  .colab-df-quickchart {\n",
              "    background-color: var(--bg-color);\n",
              "    border: none;\n",
              "    border-radius: 50%;\n",
              "    cursor: pointer;\n",
              "    display: none;\n",
              "    fill: var(--fill-color);\n",
              "    height: 32px;\n",
              "    padding: 0;\n",
              "    width: 32px;\n",
              "  }\n",
              "\n",
              "  .colab-df-quickchart:hover {\n",
              "    background-color: var(--hover-bg-color);\n",
              "    box-shadow: 0 1px 2px rgba(60, 64, 67, 0.3), 0 1px 3px 1px rgba(60, 64, 67, 0.15);\n",
              "    fill: var(--button-hover-fill-color);\n",
              "  }\n",
              "\n",
              "  .colab-df-quickchart-complete:disabled,\n",
              "  .colab-df-quickchart-complete:disabled:hover {\n",
              "    background-color: var(--disabled-bg-color);\n",
              "    fill: var(--disabled-fill-color);\n",
              "    box-shadow: none;\n",
              "  }\n",
              "\n",
              "  .colab-df-spinner {\n",
              "    border: 2px solid var(--fill-color);\n",
              "    border-color: transparent;\n",
              "    border-bottom-color: var(--fill-color);\n",
              "    animation:\n",
              "      spin 1s steps(1) infinite;\n",
              "  }\n",
              "\n",
              "  @keyframes spin {\n",
              "    0% {\n",
              "      border-color: transparent;\n",
              "      border-bottom-color: var(--fill-color);\n",
              "      border-left-color: var(--fill-color);\n",
              "    }\n",
              "    20% {\n",
              "      border-color: transparent;\n",
              "      border-left-color: var(--fill-color);\n",
              "      border-top-color: var(--fill-color);\n",
              "    }\n",
              "    30% {\n",
              "      border-color: transparent;\n",
              "      border-left-color: var(--fill-color);\n",
              "      border-top-color: var(--fill-color);\n",
              "      border-right-color: var(--fill-color);\n",
              "    }\n",
              "    40% {\n",
              "      border-color: transparent;\n",
              "      border-right-color: var(--fill-color);\n",
              "      border-top-color: var(--fill-color);\n",
              "    }\n",
              "    60% {\n",
              "      border-color: transparent;\n",
              "      border-right-color: var(--fill-color);\n",
              "    }\n",
              "    80% {\n",
              "      border-color: transparent;\n",
              "      border-right-color: var(--fill-color);\n",
              "      border-bottom-color: var(--fill-color);\n",
              "    }\n",
              "    90% {\n",
              "      border-color: transparent;\n",
              "      border-bottom-color: var(--fill-color);\n",
              "    }\n",
              "  }\n",
              "</style>\n",
              "\n",
              "  <script>\n",
              "    async function quickchart(key) {\n",
              "      const quickchartButtonEl =\n",
              "        document.querySelector('#' + key + ' button');\n",
              "      quickchartButtonEl.disabled = true;  // To prevent multiple clicks.\n",
              "      quickchartButtonEl.classList.add('colab-df-spinner');\n",
              "      try {\n",
              "        const charts = await google.colab.kernel.invokeFunction(\n",
              "            'suggestCharts', [key], {});\n",
              "      } catch (error) {\n",
              "        console.error('Error during call to suggestCharts:', error);\n",
              "      }\n",
              "      quickchartButtonEl.classList.remove('colab-df-spinner');\n",
              "      quickchartButtonEl.classList.add('colab-df-quickchart-complete');\n",
              "    }\n",
              "    (() => {\n",
              "      let quickchartButtonEl =\n",
              "        document.querySelector('#df-f5ed177a-c020-48ea-a2c2-a3ca75ed380b button');\n",
              "      quickchartButtonEl.style.display =\n",
              "        google.colab.kernel.accessAllowed ? 'block' : 'none';\n",
              "    })();\n",
              "  </script>\n",
              "</div>\n",
              "\n",
              "  <div id=\"id_9450225c-1a4b-4547-b821-c370cd72469e\">\n",
              "    <style>\n",
              "      .colab-df-generate {\n",
              "        background-color: #E8F0FE;\n",
              "        border: none;\n",
              "        border-radius: 50%;\n",
              "        cursor: pointer;\n",
              "        display: none;\n",
              "        fill: #1967D2;\n",
              "        height: 32px;\n",
              "        padding: 0 0 0 0;\n",
              "        width: 32px;\n",
              "      }\n",
              "\n",
              "      .colab-df-generate:hover {\n",
              "        background-color: #E2EBFA;\n",
              "        box-shadow: 0px 1px 2px rgba(60, 64, 67, 0.3), 0px 1px 3px 1px rgba(60, 64, 67, 0.15);\n",
              "        fill: #174EA6;\n",
              "      }\n",
              "\n",
              "      [theme=dark] .colab-df-generate {\n",
              "        background-color: #3B4455;\n",
              "        fill: #D2E3FC;\n",
              "      }\n",
              "\n",
              "      [theme=dark] .colab-df-generate:hover {\n",
              "        background-color: #434B5C;\n",
              "        box-shadow: 0px 1px 3px 1px rgba(0, 0, 0, 0.15);\n",
              "        filter: drop-shadow(0px 1px 2px rgba(0, 0, 0, 0.3));\n",
              "        fill: #FFFFFF;\n",
              "      }\n",
              "    </style>\n",
              "    <button class=\"colab-df-generate\" onclick=\"generateWithVariable('df')\"\n",
              "            title=\"Generate code using this dataframe.\"\n",
              "            style=\"display:none;\">\n",
              "\n",
              "  <svg xmlns=\"http://www.w3.org/2000/svg\" height=\"24px\"viewBox=\"0 0 24 24\"\n",
              "       width=\"24px\">\n",
              "    <path d=\"M7,19H8.4L18.45,9,17,7.55,7,17.6ZM5,21V16.75L18.45,3.32a2,2,0,0,1,2.83,0l1.4,1.43a1.91,1.91,0,0,1,.58,1.4,1.91,1.91,0,0,1-.58,1.4L9.25,21ZM18.45,9,17,7.55Zm-12,3A5.31,5.31,0,0,0,4.9,8.1,5.31,5.31,0,0,0,1,6.5,5.31,5.31,0,0,0,4.9,4.9,5.31,5.31,0,0,0,6.5,1,5.31,5.31,0,0,0,8.1,4.9,5.31,5.31,0,0,0,12,6.5,5.46,5.46,0,0,0,6.5,12Z\"/>\n",
              "  </svg>\n",
              "    </button>\n",
              "    <script>\n",
              "      (() => {\n",
              "      const buttonEl =\n",
              "        document.querySelector('#id_9450225c-1a4b-4547-b821-c370cd72469e button.colab-df-generate');\n",
              "      buttonEl.style.display =\n",
              "        google.colab.kernel.accessAllowed ? 'block' : 'none';\n",
              "\n",
              "      buttonEl.onclick = () => {\n",
              "        google.colab.notebook.generateWithVariable('df');\n",
              "      }\n",
              "      })();\n",
              "    </script>\n",
              "  </div>\n",
              "\n",
              "    </div>\n",
              "  </div>\n"
            ],
            "application/vnd.google.colaboratory.intrinsic+json": {
              "type": "dataframe",
              "variable_name": "df",
              "summary": "{\n  \"name\": \"df\",\n  \"rows\": 18900,\n  \"fields\": [\n    {\n      \"column\": \"timestamp\",\n      \"properties\": {\n        \"dtype\": \"object\",\n        \"num_unique_values\": 18900,\n        \"samples\": [\n          \"2021-12-27 11:26:00\",\n          \"2021-11-25 12:05:00\",\n          \"2021-12-16 15:38:00\"\n        ],\n        \"semantic_type\": \"\",\n        \"description\": \"\"\n      }\n    },\n    {\n      \"column\": \"open\",\n      \"properties\": {\n        \"dtype\": \"number\",\n        \"std\": 95,\n        \"min\": 7175,\n        \"max\": 7750,\n        \"num_unique_values\": 24,\n        \"samples\": [\n          7350,\n          7650,\n          7550\n        ],\n        \"semantic_type\": \"\",\n        \"description\": \"\"\n      }\n    },\n    {\n      \"column\": \"low\",\n      \"properties\": {\n        \"dtype\": \"number\",\n        \"std\": 94,\n        \"min\": 7175,\n        \"max\": 7725,\n        \"num_unique_values\": 23,\n        \"samples\": [\n          7600,\n          7275,\n          7500\n        ],\n        \"semantic_type\": \"\",\n        \"description\": \"\"\n      }\n    },\n    {\n      \"column\": \"high\",\n      \"properties\": {\n        \"dtype\": \"number\",\n        \"std\": 95,\n        \"min\": 7200,\n        \"max\": 7750,\n        \"num_unique_values\": 23,\n        \"samples\": [\n          7625,\n          7325,\n          7550\n        ],\n        \"semantic_type\": \"\",\n        \"description\": \"\"\n      }\n    },\n    {\n      \"column\": \"close\",\n      \"properties\": {\n        \"dtype\": \"number\",\n        \"std\": 94,\n        \"min\": 7175,\n        \"max\": 7750,\n        \"num_unique_values\": 24,\n        \"samples\": [\n          7325,\n          7650,\n          7525\n        ],\n        \"semantic_type\": \"\",\n        \"description\": \"\"\n      }\n    },\n    {\n      \"column\": \"volume\",\n      \"properties\": {\n        \"dtype\": \"number\",\n        \"std\": 1823187,\n        \"min\": 0,\n        \"max\": 100292400,\n        \"num_unique_values\": 3844,\n        \"samples\": [\n          400400,\n          8057800,\n          487800\n        ],\n        \"semantic_type\": \"\",\n        \"description\": \"\"\n      }\n    }\n  ]\n}"
            }
          },
          "metadata": {},
          "execution_count": 12
        }
      ]
    },
    {
      "cell_type": "markdown",
      "source": [
        "Harga diambil dari harga saat sekuritas finansial dibuka di pasar saat perdagangan dimulai."
      ],
      "metadata": {
        "id": "rTzDHAwEUNwC"
      }
    },
    {
      "cell_type": "code",
      "source": [
        "dates = df['timestamp'].values\n",
        "price = df['open'].values\n",
        "\n",
        "plt.figure(figsize=(15, 5))\n",
        "plt.plot(dates, price)\n",
        "plt.title('BBCA Stock Price', fontsize=20)"
      ],
      "metadata": {
        "id": "ATbbHb1BQsUC",
        "colab": {
          "base_uri": "https://localhost:8080/",
          "height": 493
        },
        "outputId": "b163652e-c9b2-4217-d190-de64dcaeb61e"
      },
      "execution_count": 13,
      "outputs": [
        {
          "output_type": "execute_result",
          "data": {
            "text/plain": [
              "Text(0.5, 1.0, 'BBCA Stock Price')"
            ]
          },
          "metadata": {},
          "execution_count": 13
        },
        {
          "output_type": "display_data",
          "data": {
            "text/plain": [
              "<Figure size 1500x500 with 1 Axes>"
            ],
            "image/png": "[encoded data removed]"
          },
          "metadata": {}
        }
      ]
    },
    {
      "cell_type": "code",
      "source": [
        "shape = price.shape\n",
        "scaler = StandardScaler()\n",
        "scaled_price = scaler.fit_transform(price.reshape(-1, 1))\n",
        "scaled_price = scaled_price.reshape(shape)\n",
        "scaled_price"
      ],
      "metadata": {
        "colab": {
          "base_uri": "https://localhost:8080/"
        },
        "id": "sp21d2frWDgM",
        "outputId": "9e030d79-da0a-47f0-fecb-69199b75e746"
      },
      "execution_count": 14,
      "outputs": [
        {
          "output_type": "execute_result",
          "data": {
            "text/plain": [
              "array([ 1.45446101,  1.19290962,  0.93135822, ..., -1.16105293,\n",
              "       -1.16105293, -1.16105293])"
            ]
          },
          "metadata": {},
          "execution_count": 14
        }
      ]
    },
    {
      "cell_type": "code",
      "source": [
        "X_train, X_test, y_train, y_test = train_test_split(scaled_price, dates, test_size=0.2, shuffle=False)\n",
        "\n",
        "print(X_train.shape[0])\n",
        "print(X_test.shape[0])"
      ],
      "metadata": {
        "colab": {
          "base_uri": "https://localhost:8080/"
        },
        "id": "5cPPii14SL5v",
        "outputId": "f8b63cb2-5732-49d0-e530-be3546a70592"
      },
      "execution_count": 15,
      "outputs": [
        {
          "output_type": "stream",
          "name": "stdout",
          "text": [
            "15120\n",
            "3780\n"
          ]
        }
      ]
    },
    {
      "cell_type": "code",
      "source": [
        "def windowed_dataset(series, window_size, batch_size, shuffle_buffer):\n",
        "    series = tf.expand_dims(series, axis=1)\n",
        "    ds = tf.data.Dataset.from_tensor_slices(series)\n",
        "    ds = ds.window(window_size + 1, shift=1, drop_remainder=True)\n",
        "    ds = ds.flat_map(lambda w: w.batch(window_size + 1))\n",
        "    ds = ds.shuffle(shuffle_buffer)\n",
        "    ds = ds.map(lambda w: (w[:-1], w[-1:]))\n",
        "    return ds.batch(batch_size).prefetch(1)"
      ],
      "metadata": {
        "id": "sIaCw_C9SEzq"
      },
      "execution_count": 16,
      "outputs": []
    },
    {
      "cell_type": "code",
      "source": [
        "train_set = windowed_dataset(X_train, window_size=30, batch_size=64, shuffle_buffer=1000)\n",
        "test_set = windowed_dataset(X_test, window_size=30, batch_size=64, shuffle_buffer=1000)"
      ],
      "metadata": {
        "id": "7u_SxNorZcxh"
      },
      "execution_count": 17,
      "outputs": []
    },
    {
      "cell_type": "code",
      "source": [
        "model = tf.keras.models.Sequential([\n",
        "    LSTM(60, return_sequences=True),\n",
        "    LSTM(60),\n",
        "    Dense(30, activation='relu'),\n",
        "    Dense(10, activation='relu'),\n",
        "    Dense(1)\n",
        "])"
      ],
      "metadata": {
        "id": "-j0cuLI4SJP4"
      },
      "execution_count": 18,
      "outputs": []
    },
    {
      "cell_type": "code",
      "source": [
        "optimizer = tf.keras.optimizers.SGD(learning_rate=1e-5, momentum=0.9)\n",
        "\n",
        "model.compile(loss=tf.keras.losses.Huber(),\n",
        "            optimizer=optimizer,\n",
        "            metrics=['mae'])"
      ],
      "metadata": {
        "id": "7met9erGayeE"
      },
      "execution_count": 19,
      "outputs": []
    },
    {
      "cell_type": "code",
      "source": [
        "threshold_mae = (scaled_price.max() - scaled_price.min()) * 10/100\n",
        "print(threshold_mae)"
      ],
      "metadata": {
        "colab": {
          "base_uri": "https://localhost:8080/"
        },
        "id": "ViJ23ClXbCgO",
        "outputId": "97f1e71b-2e18-40c2-895b-e5da52de969a"
      },
      "execution_count": 20,
      "outputs": [
        {
          "output_type": "stream",
          "name": "stdout",
          "text": [
            "0.6015682065327239\n"
          ]
        }
      ]
    },
    {
      "cell_type": "code",
      "source": [
        "class myCallback(tf.keras.callbacks.Callback):\n",
        "  def on_epoch_end(self, epoch, logs={}):\n",
        "    if(logs.get('mae') < threshold_mae and logs.get('val_mae') < threshold_mae):\n",
        "      print(\"\\nNilai MAE < 10%\")\n",
        "      self.model.stop_training = True\n",
        "\n",
        "callbacks = myCallback()"
      ],
      "metadata": {
        "id": "R3NNvm2Ea7BN"
      },
      "execution_count": 21,
      "outputs": []
    },
    {
      "cell_type": "code",
      "source": [
        "history = model.fit(train_set,\n",
        "                    epochs=100,\n",
        "                    validation_data = test_set,\n",
        "                    callbacks=[callbacks])"
      ],
      "metadata": {
        "colab": {
          "base_uri": "https://localhost:8080/"
        },
        "id": "zotXNBqha9N2",
        "outputId": "d93ddf06-a47b-4aeb-e1cb-a1f26f6a9450"
      },
      "execution_count": 22,
      "outputs": [
        {
          "output_type": "stream",
          "name": "stdout",
          "text": [
            "Epoch 1/100\n",
            "236/236 [==============================] - 35s 122ms/step - loss: 0.4186 - mae: 0.7727 - val_loss: 0.3466 - val_mae: 0.7753\n",
            "Epoch 2/100\n",
            "236/236 [==============================] - 16s 68ms/step - loss: 0.4016 - mae: 0.7500 - val_loss: 0.3313 - val_mae: 0.7562\n",
            "Epoch 3/100\n",
            "236/236 [==============================] - 16s 68ms/step - loss: 0.3902 - mae: 0.7352 - val_loss: 0.3205 - val_mae: 0.7421\n",
            "Epoch 4/100\n",
            "236/236 [==============================] - 20s 81ms/step - loss: 0.3810 - mae: 0.7231 - val_loss: 0.3097 - val_mae: 0.7279\n",
            "Epoch 5/100\n",
            "236/236 [==============================] - 21s 90ms/step - loss: 0.3726 - mae: 0.7119 - val_loss: 0.2987 - val_mae: 0.7133\n",
            "Epoch 6/100\n",
            "236/236 [==============================] - 17s 68ms/step - loss: 0.3648 - mae: 0.7013 - val_loss: 0.2877 - val_mae: 0.6985\n",
            "Epoch 7/100\n",
            "236/236 [==============================] - 18s 74ms/step - loss: 0.3579 - mae: 0.6915 - val_loss: 0.2767 - val_mae: 0.6835\n",
            "Epoch 8/100\n",
            "236/236 [==============================] - 22s 91ms/step - loss: 0.3523 - mae: 0.6830 - val_loss: 0.2659 - val_mae: 0.6684\n",
            "Epoch 9/100\n",
            "236/236 [==============================] - 23s 97ms/step - loss: 0.3472 - mae: 0.6752 - val_loss: 0.2555 - val_mae: 0.6537\n",
            "Epoch 10/100\n",
            "236/236 [==============================] - 26s 110ms/step - loss: 0.3424 - mae: 0.6677 - val_loss: 0.2455 - val_mae: 0.6396\n",
            "Epoch 11/100\n",
            "236/236 [==============================] - 22s 92ms/step - loss: 0.3377 - mae: 0.6604 - val_loss: 0.2362 - val_mae: 0.6261\n",
            "Epoch 12/100\n",
            "236/236 [==============================] - 17s 71ms/step - loss: 0.3331 - mae: 0.6533 - val_loss: 0.2272 - val_mae: 0.6130\n",
            "Epoch 13/100\n",
            "236/236 [==============================] - 17s 70ms/step - loss: 0.3286 - mae: 0.6461 - val_loss: 0.2187 - val_mae: 0.6003\n",
            "Epoch 14/100\n",
            "236/236 [==============================] - 20s 82ms/step - loss: 0.3242 - mae: 0.6391 - val_loss: 0.2108 - val_mae: 0.5884\n",
            "Epoch 15/100\n",
            "236/236 [==============================] - 21s 90ms/step - loss: 0.3198 - mae: 0.6321 - val_loss: 0.2032 - val_mae: 0.5768\n",
            "Epoch 16/100\n",
            "236/236 [==============================] - 16s 66ms/step - loss: 0.3154 - mae: 0.6251 - val_loss: 0.1958 - val_mae: 0.5653\n",
            "Epoch 17/100\n",
            "236/236 [==============================] - 21s 86ms/step - loss: 0.3110 - mae: 0.6181 - val_loss: 0.1887 - val_mae: 0.5539\n",
            "Epoch 18/100\n",
            "236/236 [==============================] - 30s 125ms/step - loss: 0.3067 - mae: 0.6110 - val_loss: 0.1818 - val_mae: 0.5427\n",
            "Epoch 19/100\n",
            "236/236 [==============================] - 24s 100ms/step - loss: 0.3024 - mae: 0.6039 - val_loss: 0.1750 - val_mae: 0.5315\n",
            "Epoch 20/100\n",
            "236/236 [==============================] - ETA: 0s - loss: 0.2981 - mae: 0.5968\n",
            "Nilai MAE < 10%\n",
            "236/236 [==============================] - 21s 89ms/step - loss: 0.2981 - mae: 0.5968 - val_loss: 0.1686 - val_mae: 0.5207\n"
          ]
        }
      ]
    },
    {
      "cell_type": "code",
      "source": [
        "plt.plot(history.history['mae'])\n",
        "plt.plot(history.history['val_mae'])\n",
        "plt.title('Model MAE')\n",
        "plt.ylabel('MAE')\n",
        "plt.xlabel('Epoch')\n",
        "plt.legend(['Train', 'Val'], loc='upper right')\n",
        "plt.ylim(ymin=0)\n",
        "plt.show()"
      ],
      "metadata": {
        "colab": {
          "base_uri": "https://localhost:8080/",
          "height": 472
        },
        "id": "XPOLm_y8b26f",
        "outputId": "862de54d-542c-4e31-eac8-2c74349e4cf5"
      },
      "execution_count": 23,
      "outputs": [
        {
          "output_type": "display_data",
          "data": {
            "text/plain": [
              "<Figure size 640x480 with 1 Axes>"
            ],
            "image/png": "[encoded data removed]"
          },
          "metadata": {}
        }
      ]
    }
  ]
}